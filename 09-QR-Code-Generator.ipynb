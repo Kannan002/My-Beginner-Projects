{
  "nbformat": 4,
  "nbformat_minor": 0,
  "metadata": {
    "colab": {
      "name": "QR Code Generator.ipynb",
      "provenance": []
    },
    "kernelspec": {
      "name": "python3",
      "display_name": "Python 3"
    }
  },
  "cells": [
    {
      "cell_type": "markdown",
      "metadata": {
        "id": "mHePScsv2NQm"
      },
      "source": [
        "## QR code generator"
      ]
    },
    {
      "cell_type": "code",
      "metadata": {
        "id": "PdviuJdOyCf9"
      },
      "source": [
        "# Installing module for generating qr code\r\n",
        "!pip install pyqrcode --upgrade --quiet\r\n",
        "!pip install pypng --upgrade --quiet"
      ],
      "execution_count": null,
      "outputs": []
    },
    {
      "cell_type": "code",
      "metadata": {
        "id": "JuAcUTaxyzUa"
      },
      "source": [
        "# Importing the module\r\n",
        "import pyqrcode\r\n",
        "import png"
      ],
      "execution_count": null,
      "outputs": []
    },
    {
      "cell_type": "code",
      "metadata": {
        "id": "m3Ub-d0szLDs"
      },
      "source": [
        "# Creating the variable for QR code link\r\n",
        "github_url = 'https://github.com/kannan-ravi'\r\n",
        "\r\n",
        "# Creating the qrcode using create function\r\n",
        "github_qr = pyqrcode.create(github_url)\r\n",
        "\r\n",
        "# Saving image the using png format\r\n",
        "github_qr.png('github url.png', scale=6)\r\n",
        "\r\n",
        "# Saving image using jpg format\r\n",
        "github_qr.svg('gihub url.svg', scale=8)"
      ],
      "execution_count": null,
      "outputs": []
    }
  ]
}